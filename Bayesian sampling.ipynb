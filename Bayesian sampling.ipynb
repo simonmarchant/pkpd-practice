{
 "cells": [
  {
   "cell_type": "markdown",
   "metadata": {},
   "source": [
    "# Bayesian sampling for simple PK\n"
   ]
  },
  {
   "cell_type": "code",
   "execution_count": 2,
   "metadata": {},
   "outputs": [],
   "source": [
    "import numpy as np\n",
    "import math\n",
    "import matplotlib.pyplot as plt"
   ]
  },
  {
   "cell_type": "code",
   "execution_count": 6,
   "metadata": {},
   "outputs": [
    {
     "data": {
      "image/png": "[encoded data removed]",
      "text/plain": [
       "<Figure size 432x288 with 1 Axes>"
      ]
     },
     "metadata": {
      "needs_background": "light"
     },
     "output_type": "display_data"
    }
   ],
   "source": [
    "# Parameters\n",
    "k = 2\n",
    "times = np.linspace(0,10,100)\n",
    "\n",
    "# A one-compartment PK model is basically an ODE for an exponential decay curve\n",
    "def onecomp(y, t, k):\n",
    "    dydt = -k * y\n",
    "    return dydt\n",
    "\n",
    "# You can solve ODEs with the Forward Euler method\n",
    "def ForwardEuler(func, k, y0, times):\n",
    "    y = y0\n",
    "    y_solution = [y0]\n",
    "    h = times[2] - times[1]\n",
    "    \n",
    "    for n in times[:-1]:\n",
    "        dy = func(y, n, k)\n",
    "        y = y + h*dy\n",
    "        y_solution.append(y)\n",
    "\n",
    "    return y_solution\n",
    "\n",
    "# We don't actually know these values\n",
    "actual_values = ForwardEuler(onecomp, k, 1, times)\n",
    "\n",
    "# Plot the model\n",
    "plt.figure()\n",
    "plt.xlabel('Time')\n",
    "plt.ylabel('Concentration')\n",
    "plt.plot(times, actual_values)\n",
    "plt.show()"
   ]
  },
  {
   "cell_type": "markdown",
   "metadata": {},
   "source": [
    "Without prior knowledge, we can make a guess at a model type that would give this kind of data, but we don't know what the parameters of the model are. We call these parameters theta ($\\theta$) and in this single-compartment case the only parameter is k.\n",
    "\n",
    "While we can estimate concentration (y(t)) at a given time (t) numerically by plotting from y(0), we have to guess a value of k. **We are trying to find the true value of k**.\n",
    "\n",
    "You could measure from the system we're modelling, and you would get measurements with some measurement error, which we're modelling as gaussian noise below."
   ]
  },
  {
   "cell_type": "code",
   "execution_count": 9,
   "metadata": {},
   "outputs": [
    {
     "data": {
      "image/png": "[encoded data removed]",
      "text/plain": [
       "<Figure size 432x288 with 1 Axes>"
      ]
     },
     "metadata": {
      "needs_background": "light"
     },
     "output_type": "display_data"
    }
   ],
   "source": [
    "# Make noisy data that we're inferring from. noisy_data is known to us.\n",
    "noise = np.random.normal(0, 0.03, len(actual_values))\n",
    "noisy_data = actual_values + noise\n",
    "plt.figure()\n",
    "plt.plot(times, noisy_data)\n",
    "plt.plot(times, actual_values)\n",
    "plt.xlabel('Time')\n",
    "plt.ylabel('Concentration')\n",
    "plt.show()"
   ]
  },
  {
   "cell_type": "markdown",
   "metadata": {},
   "source": [
    "**Metropolis sampling**\n",
    "\n",
    "Assuming that our only two inputs ($\\theta$) are k (gradient scaling) and $\\sigma$ (SD of noise)...\n",
    "\n",
    "We want to find $Pr(\\theta|X)$ (the posterior), which is a function giving the probability distribution for the model input parameters: that is, for each possible combination of input parameters, a likelihood that that is the combination producing this output. Input $\\theta$ (vector, output probability density (scalar).\n",
    "\n",
    "$Pr(\\theta|X) = \\frac{Pr(X|\\theta) Pr(\\theta)}{Pr(X)}$  \n",
    "RHS has three parts: \n",
    "- $Pr(\\theta)$: prior. Function that gives a probability density (scalar) from $\\theta$ (vector). Here, gives 0.1 for all values of k & $\\sigma$ between 0 and 10.\n",
    "- $Pr(X|\\theta)$: likelihood. It's just a crazy function that takes $\\theta$ and gives a scalar. Accept and move on.\n",
    "- $Pr(X)$: A number that normalises (makes the posterior integrate to 1).\n",
    "\n",
    "**Steps**\n",
    "1. Start with an arbitrary $\\theta$ (a k and a $\\sigma$). Calculate prior x likelihood.\n",
    "2. Move to a different $\\theta$ (+/- an amount from a normal distribution with SD given by the 'covariate matrix'). Calculate prior x likelihood.\n",
    "3. If new prior x likelihood is higher than old, keep it and add the new $\\theta$ to a list. If not, keep it if rand(0->1) > (old/new). If neither of these work, move back to the old one and add that instead.\n",
    "4. Repeat steps 2-3 for N steps. \n",
    "5. Count your list of $\\theta$s into bins and draw a histogram. This approximates your posterior."
   ]
  },
  {
   "cell_type": "code",
   "execution_count": 17,
   "metadata": {},
   "outputs": [],
   "source": [
    "# This model stores all the model-related variables, so there's less weird passing of vars between functions\n",
    "\n",
    "class OdeModel():\n",
    "    \n",
    "    def __init__(self, thetas, covariates, prior, likelihood, modeltype):\n",
    "        self.thetas = thetas\n",
    "        self.covariates = covariates\n",
    "        self.modeltype = modeltype\n",
    "        self.prior = prior\n",
    "        self.likelihood = likelihood\n",
    "        self.log = {'zero':0, 'large':0, 'frac':0, 'allfracs':[], 'sumlogprob':[], 'fn_mean':[]}"
   ]
  },
  {
   "cell_type": "code",
   "execution_count": 12,
   "metadata": {},
   "outputs": [],
   "source": [
    "# This gives a uniform prior theta ~ U(0,10) \n",
    "# so 0.1 if theta is anywhere between 0 and 10 it gives 0.1, else 0\n",
    "\n",
    "def uniform_prior(theta):\n",
    "\n",
    "    prior = []\n",
    "    for key, param in theta.items():\n",
    "        if type(param) == list:\n",
    "            print('DEBUG: THIS IS PARAM')\n",
    "            print(param)\n",
    "        if param > 0 and param < 10:\n",
    "            prior.append(0.1)\n",
    "        else:\n",
    "            prior.append(0)\n",
    "            \n",
    "    return min(prior)"
   ]
  },
  {
   "cell_type": "code",
   "execution_count": 11,
   "metadata": {},
   "outputs": [],
   "source": [
    "# This calculates the likelihood \n",
    "# (probability that theta could give the output y_data)\n",
    "\n",
    "def likelihood_k(theta, y_data):\n",
    "    k = theta['k']\n",
    "    sigma = 0.03\n",
    "    pdf = []\n",
    "    y_model = ForwardEuler(onecomp, k, 1, times)\n",
    "    other_bit = 1/(2*math.pi*sigma**2)\n",
    "    for t in range(len(y_data)): # this loop gives a normally distributed pdf\n",
    "        square_error = (y_data[t] - y_model[t])**2\n",
    "        exponential = math.exp(-square_error/(2*sigma**2))\n",
    "        pdf.append(exponential*other_bit)\n",
    "    \n",
    "    return np.prod(pdf)"
   ]
  },
  {
   "cell_type": "code",
   "execution_count": 18,
   "metadata": {},
   "outputs": [
    {
     "ename": "NameError",
     "evalue": "name 'model' is not defined",
     "output_type": "error",
     "traceback": [
      "\u001b[0;31m---------------------------------------------------------------------------\u001b[0m",
      "\u001b[0;31mNameError\u001b[0m                                 Traceback (most recent call last)",
      "\u001b[0;32m<ipython-input-18-3ba18816136d>\u001b[0m in \u001b[0;36m<module>\u001b[0;34m\u001b[0m\n\u001b[1;32m     34\u001b[0m \u001b[0mstart_theta\u001b[0m \u001b[0;34m=\u001b[0m \u001b[0;34m[\u001b[0m\u001b[0;36m1\u001b[0m\u001b[0;34m,\u001b[0m \u001b[0;36m1\u001b[0m\u001b[0;34m]\u001b[0m\u001b[0;34m\u001b[0m\u001b[0;34m\u001b[0m\u001b[0m\n\u001b[1;32m     35\u001b[0m \u001b[0;34m\u001b[0m\u001b[0m\n\u001b[0;32m---> 36\u001b[0;31m \u001b[0mresult\u001b[0m \u001b[0;34m=\u001b[0m \u001b[0mpropose_new_theta\u001b[0m\u001b[0;34m(\u001b[0m\u001b[0mmodel\u001b[0m\u001b[0;34m,\u001b[0m \u001b[0mnoisy_data\u001b[0m\u001b[0;34m,\u001b[0m \u001b[0;34m{\u001b[0m\u001b[0;34m'k'\u001b[0m\u001b[0;34m:\u001b[0m\u001b[0;36m1\u001b[0m\u001b[0;34m,\u001b[0m \u001b[0;34m's'\u001b[0m\u001b[0;34m:\u001b[0m\u001b[0;36m1\u001b[0m\u001b[0;34m}\u001b[0m\u001b[0;34m)\u001b[0m\u001b[0;34m\u001b[0m\u001b[0;34m\u001b[0m\u001b[0m\n\u001b[0m\u001b[1;32m     37\u001b[0m \u001b[0mprint\u001b[0m\u001b[0;34m(\u001b[0m\u001b[0mresult\u001b[0m\u001b[0;34m)\u001b[0m\u001b[0;34m\u001b[0m\u001b[0;34m\u001b[0m\u001b[0m\n",
      "\u001b[0;31mNameError\u001b[0m: name 'model' is not defined"
     ]
    }
   ],
   "source": [
    "# This does steps 2 & 3 in the instructions above.\n",
    "# It takes the model and measured data\n",
    "# It gives ...\n",
    "\n",
    "def propose_new_theta(model, y_data, theta):\n",
    "\n",
    "    numerator = model.prior(theta) * model.likelihood(theta, y_data)\n",
    "    \n",
    "    # randomly get a proposed theta & calculate its numerator\n",
    "    proposed_theta = {}\n",
    "    for key, value in theta.items():\n",
    "        proposed_k = np.random.normal(value, model.covariates[key])\n",
    "        proposed_theta[key] = proposed_k\n",
    "    proposed_numerator = model.prior(proposed_theta) * model.likelihood(proposed_theta, model.y, y_data)\n",
    "    \n",
    "    # if the new numerator should be accepted (metropolis hastings criteria), replace theta\n",
    "    if proposed_numerator == 0:\n",
    "        model.log['zero'] += 1\n",
    "        pass\n",
    "    elif proposed_numerator > numerator:\n",
    "        theta = proposed_theta\n",
    "        numerator = proposed_numerator\n",
    "        model.log['large'] += 1\n",
    "    elif np.random.rand() < proposed_numerator/numerator:\n",
    "        model.log['frac'] += 1\n",
    "        model.log['allfracs'].append(proposed_numerator/numerator)\n",
    "        theta = proposed_theta\n",
    "        numerator = proposed_numerator\n",
    "    else:\n",
    "        model.log['allfracs'].append(proposed_numerator/numerator)\n",
    "    return theta\n",
    "\n"
   ]
  },
  {
   "cell_type": "code",
   "execution_count": 19,
   "metadata": {},
   "outputs": [],
   "source": [
    "# This just runs propose_new_theta repeatedly\n",
    "\n",
    "def metropolis_singlethread(model, y_data, threadnum, max_iters):\n",
    "    iters = 0\n",
    "    \n",
    "    while iters < max_iters:\n",
    "        theta = propose_new_theta(model, y_data, model.thetas[threadnum][-1])\n",
    "        model.thetas[threadnum].append(theta)\n",
    "        iters = iters + 1"
   ]
  },
  {
   "cell_type": "code",
   "execution_count": 20,
   "metadata": {},
   "outputs": [],
   "source": [
    "def metropolishastings(model, y_data, blocksize, number_of_blocks):\n",
    "    n = 0\n",
    "    while n < number_of_blocks:\n",
    "        for threadnum, thetas_onelot in enumerate(model.thetas):\n",
    "            metropolis_singlethread(model, y_data, threadnum, blocksize)\n",
    "        n = n+1"
   ]
  },
  {
   "cell_type": "markdown",
   "metadata": {},
   "source": [
    "Let'"
   ]
  }
 ],
 "metadata": {
  "kernelspec": {
   "display_name": "bayes",
   "language": "python",
   "name": "bayes"
  },
  "language_info": {
   "codemirror_mode": {
    "name": "ipython",
    "version": 3
   },
   "file_extension": ".py",
   "mimetype": "text/x-python",
   "name": "python",
   "nbconvert_exporter": "python",
   "pygments_lexer": "ipython3",
   "version": "3.6.9"
  }
 },
 "nbformat": 4,
 "nbformat_minor": 2
}
