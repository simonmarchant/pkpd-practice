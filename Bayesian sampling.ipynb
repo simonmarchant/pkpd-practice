{
 "cells": [
  {
   "cell_type": "markdown",
   "metadata": {},
   "source": [
    "# Bayesian inference for pharmacokinetics\n"
   ]
  },
  {
   "cell_type": "code",
   "execution_count": 1,
   "metadata": {},
   "outputs": [],
   "source": [
    "import numpy as np\n",
    "import math\n",
    "import matplotlib.pyplot as plt\n",
    "import scipy"
   ]
  },
  {
   "cell_type": "markdown",
   "metadata": {},
   "source": [
    "# Bayesian optimisation\n",
    "\n",
    "In optimisation, you measure the output of a system, and so estimate the parameters most likely to give that output. In this example we use a one-compartment model, which only has one parameter in the model."
   ]
  },
  {
   "cell_type": "code",
   "execution_count": 2,
   "metadata": {},
   "outputs": [
    {
     "data": {
      "image/png": "[encoded data removed]",
      "text/plain": [
       "<Figure size 432x288 with 1 Axes>"
      ]
     },
     "metadata": {
      "needs_background": "light"
     },
     "output_type": "display_data"
    }
   ],
   "source": [
    "# Parameters\n",
    "k = 2\n",
    "times = np.linspace(0,10,100)\n",
    "\n",
    "# A one-compartment PK model is basically an ODE for an exponential decay curve\n",
    "def onecomp(y, t, k):\n",
    "    \"\"\"A one-compartment PK model, aka simple exponential decay\n",
    "    In\n",
    "    y: y-axis value\n",
    "    t: x-axis value\n",
    "    k: gradient parameter\n",
    "    \n",
    "    Out: gradient at the given point\n",
    "    \"\"\"\n",
    "    dydt = -k * y\n",
    "    return dydt\n",
    "\n",
    "# You can solve ODEs with the Forward Euler method\n",
    "def ForwardEuler(func, k, y0, times):\n",
    "    \"\"\"Numerically calculate an ODE (forward Euler technique)\n",
    "    In\n",
    "    func: function giving the derivative\n",
    "    k: parameters the function requires as input\n",
    "    y0: y at t=0\n",
    "    times: array of times at which to calculate y\n",
    "    \n",
    "    Out: array of y values at corresponding points in times\n",
    "    \"\"\"\n",
    "    y = y0\n",
    "    y_solution = [y0]\n",
    "    h = times[2] - times[1]\n",
    "    \n",
    "    for n in times[:-1]:\n",
    "        dy = func(y, n, k)\n",
    "        y = y + h*dy\n",
    "        y_solution.append(y)\n",
    "\n",
    "    return y_solution\n",
    "\n",
    "# This is what the model looks like. We don't actually know these values\n",
    "actual_values = ForwardEuler(onecomp, k, 1, times)\n",
    "\n",
    "# Plot the model results\n",
    "plt.figure()\n",
    "plt.xlabel('Time')\n",
    "plt.ylabel('Concentration')\n",
    "plt.plot(times, actual_values)\n",
    "plt.show()"
   ]
  },
  {
   "cell_type": "markdown",
   "metadata": {},
   "source": [
    "Without prior knowledge, we can make a guess at a model type that would give this kind of data, but we don't know what the parameters of the model are. We call these parameters theta ($\\theta$) and in this single-compartment case the only parameter is k.\n",
    "\n",
    "While we can estimate concentration (y(t)) at a given time (t) numerically by plotting from y(0), we have to guess a value of k. **We are trying to find the true value of k**.\n",
    "\n",
    "You could measure from the system we're modelling, and you would get measurements with some measurement error, which we're modelling as gaussian noise below."
   ]
  },
  {
   "cell_type": "code",
   "execution_count": 3,
   "metadata": {},
   "outputs": [
    {
     "data": {
      "image/png": "[encoded data removed]",
      "text/plain": [
       "<Figure size 432x288 with 1 Axes>"
      ]
     },
     "metadata": {
      "needs_background": "light"
     },
     "output_type": "display_data"
    }
   ],
   "source": [
    "# Make noisy data that we're inferring from. noisy_data is known to us.\n",
    "noise = np.random.normal(0, 0.03, len(actual_values))\n",
    "noisy_data = actual_values + noise\n",
    "plt.figure()\n",
    "plt.plot(times, noisy_data)\n",
    "plt.plot(times, actual_values)\n",
    "plt.xlabel('Time')\n",
    "plt.ylabel('Concentration')\n",
    "plt.show()"
   ]
  },
  {
   "cell_type": "code",
   "execution_count": 4,
   "metadata": {},
   "outputs": [],
   "source": [
    "# So what do we want to minimise?\n",
    "def sumofsquares(y_model, y_data):\n",
    "    \"\"\"Gives the sum of the square of all errors between model and experimental data.\n",
    "    In\n",
    "    y_model: list of output values from model\n",
    "    y_data: list of experimental (i.e. noisy) values\n",
    "    \n",
    "    Out: the sum of square error\n",
    "    \"\"\"\n",
    "    sq_error = []\n",
    "    for t in range(len(y_model)):\n",
    "        sq_error.append((y_data[t] - y_model[t])**2)\n",
    "    \n",
    "    return sum(sq_error)"
   ]
  },
  {
   "cell_type": "code",
   "execution_count": 5,
   "metadata": {},
   "outputs": [
    {
     "ename": "AttributeError",
     "evalue": "module 'scipy' has no attribute 'optimize'",
     "output_type": "error",
     "traceback": [
      "\u001b[0;31m---------------------------------------------------------------------------\u001b[0m",
      "\u001b[0;31mAttributeError\u001b[0m                            Traceback (most recent call last)",
      "\u001b[0;32m<ipython-input-5-b04cbd20b6f3>\u001b[0m in \u001b[0;36m<module>\u001b[0;34m\u001b[0m\n\u001b[1;32m      7\u001b[0m \u001b[0;34m\u001b[0m\u001b[0m\n\u001b[1;32m      8\u001b[0m \u001b[0mstart_params\u001b[0m \u001b[0;34m=\u001b[0m \u001b[0;36m11\u001b[0m\u001b[0;34m\u001b[0m\u001b[0;34m\u001b[0m\u001b[0m\n\u001b[0;32m----> 9\u001b[0;31m \u001b[0mresult\u001b[0m \u001b[0;34m=\u001b[0m \u001b[0mscipy\u001b[0m\u001b[0;34m.\u001b[0m\u001b[0moptimize\u001b[0m\u001b[0;34m.\u001b[0m\u001b[0mminimize_scalar\u001b[0m\u001b[0;34m(\u001b[0m\u001b[0mscalar_to_minimise\u001b[0m\u001b[0;34m)\u001b[0m\u001b[0;34m\u001b[0m\u001b[0;34m\u001b[0m\u001b[0m\n\u001b[0m\u001b[1;32m     10\u001b[0m \u001b[0mprint\u001b[0m\u001b[0;34m(\u001b[0m\u001b[0;34m'Calculated k: '\u001b[0m\u001b[0;34m+\u001b[0m\u001b[0mstr\u001b[0m\u001b[0;34m(\u001b[0m\u001b[0mresult\u001b[0m\u001b[0;34m.\u001b[0m\u001b[0mx\u001b[0m\u001b[0;34m)\u001b[0m\u001b[0;34m)\u001b[0m\u001b[0;34m\u001b[0m\u001b[0;34m\u001b[0m\u001b[0m\n",
      "\u001b[0;31mAttributeError\u001b[0m: module 'scipy' has no attribute 'optimize'"
     ]
    }
   ],
   "source": [
    "# Optimise it with scipy\n",
    "def scalar_to_minimise(parameters):\n",
    "    \"\"\"For a one compartment model & sum of squares this is what's minimised\"\"\"\n",
    "    y_model = simulate(onecomp, parameters, 1, times)\n",
    "    y_data = noisy_data\n",
    "    return sumofsquares(y_model, y_data) / len(y_model)\n",
    "\n",
    "start_params = 11\n",
    "result = scipy.optimize.minimize_scalar(scalar_to_minimise)\n",
    "print('Calculated k: '+str(result.x))"
   ]
  },
  {
   "cell_type": "code",
   "execution_count": null,
   "metadata": {},
   "outputs": [],
   "source": [
    "# What does that look like?\n",
    "recon_model = simulate(onecomp, result.x, 1, times)\n",
    "plt.figure()\n",
    "plt.plot(times, noisy_data, label='Measured data')\n",
    "plt.plot(times, recon_model, label='inferred data')\n",
    "plt.xlabel('Time')\n",
    "plt.ylabel('Concentration')\n",
    "plt.legend()\n",
    "plt.show()"
   ]
  },
  {
   "cell_type": "markdown",
   "metadata": {},
   "source": [
    "# Bayesian sampling\n",
    "\n",
    "Optimisation gives us the most likely parameters, but sampling can give a probability distribution of different parameter values. The method we'll use here is Metropolis Hastings. Assuming that our only input ($\\theta$) is k (gradient scaling)...\n",
    "\n",
    "We want to find $Pr(\\theta|X)$ (the posterior), which is a function giving the probability distribution for the model input parameters: that is, for each possible combination of input parameters, a likelihood that that is the combination producing this output. Input $\\theta$ (vector, output probability density (scalar).\n",
    "\n",
    "$Pr(\\theta|X) = \\frac{Pr(X|\\theta) Pr(\\theta)}{Pr(X)}$  \n",
    "RHS has three parts: \n",
    "- $Pr(\\theta)$: prior. Function that gives a probability density (scalar) from $\\theta$ (vector). Here, gives 0.1 for all values of k & $\\sigma$ between 0 and 10.\n",
    "- $Pr(X|\\theta)$: likelihood. It's just a crazy function that takes $\\theta$ and gives a scalar. Accept and move on.\n",
    "- $Pr(X)$: A number that normalises (makes the posterior integrate to 1).\n",
    "\n",
    "**Steps**\n",
    "1. Start with an arbitrary $\\theta$ (a k and a $\\sigma$). Calculate prior x likelihood.\n",
    "2. Move to a different $\\theta$ (+/- an amount from a normal distribution with SD given by the 'covariate matrix'). Calculate prior x likelihood.\n",
    "3. If new prior x likelihood is higher than old, keep it and add the new $\\theta$ to a list. If not, keep it if rand(0->1) > (old/new). If neither of these work, move back to the old one and add that instead.\n",
    "4. Repeat steps 2-3 for N steps. \n",
    "5. Count your list of $\\theta$s into bins and draw a histogram. This approximates your posterior."
   ]
  },
  {
   "cell_type": "code",
   "execution_count": null,
   "metadata": {},
   "outputs": [],
   "source": [
    "# This model stores all the model-related variables, so there's less weird passing of vars between functions\n",
    "\n",
    "class OdeModel():\n",
    "    \n",
    "    def __init__(self, thetas, covariates, prior, likelihood, modeltype):\n",
    "        self.thetas = thetas\n",
    "        self.covariates = covariates\n",
    "        self.modeltype = modeltype\n",
    "        self.prior = prior\n",
    "        self.likelihood = likelihood\n",
    "        self.log = {'zero':0, 'large':0, 'frac':0, 'allfracs':[], 'sumlogprob':[], 'fn_mean':[]}"
   ]
  },
  {
   "cell_type": "code",
   "execution_count": null,
   "metadata": {},
   "outputs": [],
   "source": [
    "# This gives a uniform prior theta ~ U(0,10) \n",
    "\n",
    "def uniform_prior(theta):\n",
    "    \"\"\"Returns 0.1 if entire input list is between 0 & 10, else 0\"\"\"\n",
    "    \n",
    "    prior = []\n",
    "    for key, param in theta.items():\n",
    "        if type(param) == list:\n",
    "            print('DEBUG: THIS IS PARAM')\n",
    "            print(param)\n",
    "        if param > 0 and param < 10:\n",
    "            prior.append(0.1)\n",
    "        else:\n",
    "            prior.append(0)\n",
    "            \n",
    "    return min(prior)"
   ]
  },
  {
   "cell_type": "code",
   "execution_count": null,
   "metadata": {},
   "outputs": [],
   "source": [
    "# This calculates the likelihood \n",
    "# (probability that theta could give the output y_data)\n",
    "\n",
    "def likelihood_k(theta, y_data):\n",
    "    k = theta['k']\n",
    "    sigma = 0.03\n",
    "    pdf = []\n",
    "    y_model = ForwardEuler(onecomp, k, 1, times)\n",
    "    other_bit = 1/(2*math.pi*sigma**2)\n",
    "    for t in range(len(y_data)): # this loop gives a normally distributed pdf\n",
    "        square_error = (y_data[t] - y_model[t])**2\n",
    "        exponential = math.exp(-square_error/(2*sigma**2))\n",
    "        pdf.append(exponential*other_bit)\n",
    "    \n",
    "    return np.prod(pdf)"
   ]
  },
  {
   "cell_type": "code",
   "execution_count": null,
   "metadata": {},
   "outputs": [],
   "source": [
    "# This does steps 2 & 3 in the instructions above.\n",
    "# It takes the model and measured data\n",
    "# It gives ...\n",
    "\n",
    "def propose_new_theta(model, y_data, theta):\n",
    "    \"\"\"Randomly proposes a new theta and decides whether to accept or not\n",
    "    In\n",
    "    model: instance of OdeModel class\n",
    "    y_data: list with experimental data\n",
    "    theta: parameters, in a list\n",
    "    \n",
    "    Out: new parameters, either the same (if proposed not accepted) or different\n",
    "    \"\"\"\n",
    "\n",
    "    numerator = model.prior(theta) * model.likelihood(theta, y_data)\n",
    "    \n",
    "    # randomly get a proposed theta & calculate its numerator\n",
    "    proposed_theta = {}\n",
    "    for key, value in theta.items():\n",
    "        proposed_k = np.random.normal(value, model.covariates[key])\n",
    "        proposed_theta[key] = proposed_k\n",
    "    proposed_numerator = model.prior(proposed_theta) * model.likelihood(proposed_theta, y_data)\n",
    "    \n",
    "    # if the new numerator should be accepted (metropolis hastings criteria), replace theta\n",
    "    if proposed_numerator == 0:\n",
    "        model.log['zero'] += 1\n",
    "        pass\n",
    "    elif proposed_numerator > numerator:\n",
    "        theta = proposed_theta\n",
    "        numerator = proposed_numerator\n",
    "        model.log['large'] += 1\n",
    "    elif np.random.rand() < proposed_numerator/numerator:\n",
    "        model.log['frac'] += 1\n",
    "        model.log['allfracs'].append(proposed_numerator/numerator)\n",
    "        theta = proposed_theta\n",
    "        numerator = proposed_numerator\n",
    "    else:\n",
    "        model.log['allfracs'].append(proposed_numerator/numerator)\n",
    "    return theta\n",
    "\n"
   ]
  },
  {
   "cell_type": "code",
   "execution_count": null,
   "metadata": {},
   "outputs": [],
   "source": [
    "# This just runs propose_new_theta repeatedly\n",
    "\n",
    "def metropolis_singlethread(model, y_data, threadnum, max_iters):\n",
    "    iters = 0\n",
    "    \n",
    "    while iters < max_iters:\n",
    "        theta = propose_new_theta(model, y_data, model.thetas[threadnum][-1])\n",
    "        model.thetas[threadnum].append(theta)\n",
    "        iters = iters + 1"
   ]
  },
  {
   "cell_type": "code",
   "execution_count": null,
   "metadata": {},
   "outputs": [],
   "source": [
    "def metropolishastings(model, y_data, blocksize, number_of_blocks):\n",
    "    n = 0\n",
    "    while n < number_of_blocks:\n",
    "        for threadnum, thetas_onelot in enumerate(model.thetas):\n",
    "            metropolis_singlethread(model, y_data, threadnum, blocksize)\n",
    "        n = n+1"
   ]
  },
  {
   "cell_type": "markdown",
   "metadata": {},
   "source": [
    "Let's see this work."
   ]
  },
  {
   "cell_type": "code",
   "execution_count": null,
   "metadata": {},
   "outputs": [],
   "source": [
    "ks = np.linspace(0,10,100)\n",
    "likelihoods = []\n",
    "for k in ks:\n",
    "    likelihoods.append(likelihood_k({'k':k}, noisy_data))\n",
    "\n",
    "plt.figure()\n",
    "plt.plot(ks, likelihoods)\n",
    "plt.xlabel('input parameter, k')\n",
    "plt.ylabel('likelihood')\n",
    "plt.show()"
   ]
  },
  {
   "cell_type": "code",
   "execution_count": null,
   "metadata": {},
   "outputs": [],
   "source": [
    "# Run the metropolis hastings algorithm\n",
    "\n",
    "thetas_k = [[{'k':5}], [{'k':3}], [{'k':1}]] # Three initial guesses for k\n",
    "covariates_k = {'k':0.05} # Step size (SD of normal distribution for choosing next proposed theta)\n",
    "model = OdeModel(thetas_k, covariates_k, uniform_prior, likelihood_k, onecomp)\n",
    "metropolishastings(model, noisy_data, 10, 100)"
   ]
  },
  {
   "cell_type": "code",
   "execution_count": null,
   "metadata": {},
   "outputs": [],
   "source": [
    "# This is how k looks (from all start-points) as the algorithm progresses\n",
    "\n",
    "plt.figure()\n",
    "for n in range(len(model.thetas)):\n",
    "    ks_list= [theta['k'] for theta in model.thetas[n]]\n",
    "    plt.plot(ks_list[:500]) # only first 500\n",
    "plt.xlabel('iteration #')\n",
    "plt.ylabel('k')\n",
    "plt.show()"
   ]
  },
  {
   "cell_type": "code",
   "execution_count": null,
   "metadata": {},
   "outputs": [],
   "source": [
    "# Here are the occurrences of all k estimates throughout the algorithm\n",
    "\n",
    "all_ks = []\n",
    "for n in range(len(model.thetas)):\n",
    "    ks_list = [theta['k'] for theta in model.thetas[n]]\n",
    "    all_ks.append(ks_list)\n",
    "\n",
    "plt.figure()\n",
    "plt.hist(all_ks, bins=100, stacked=True)\n",
    "plt.xlabel('k')\n",
    "plt.ylabel('occurrence')\n",
    "plt.show()"
   ]
  },
  {
   "cell_type": "markdown",
   "metadata": {},
   "source": [
    "# Using Pints\n",
    "Now let's try the same thing, but using Pints!  \n",
    "Using the tutorial here: https://github.com/pints-team/pints/blob/master/examples/sampling/readme-example.ipynb"
   ]
  },
  {
   "cell_type": "code",
   "execution_count": null,
   "metadata": {},
   "outputs": [],
   "source": [
    "import pints"
   ]
  },
  {
   "cell_type": "code",
   "execution_count": null,
   "metadata": {},
   "outputs": [],
   "source": [
    "# First, optimisation.\n",
    "# Gotta make the model into a Pints one\n",
    "class PintsOneComp(pints.ForwardModel):\n",
    "    def n_parameters(self):\n",
    "        return 1\n",
    "    def simulate(self, parameter, times):\n",
    "        return ForwardEuler(onecomp, parameter, 1, times)\n",
    "    \n",
    "pintsmodel = PintsOneComp()\n",
    "problem = pints.SingleOutputProblem(pintsmodel, times, noisy_data)\n",
    "error_measure = pints.SumOfSquaresError(problem)\n",
    "optimisation = pints.OptimisationController(error_measure, [1], method=pints.XNES)\n",
    "optimisation.set_log_to_screen(False)\n",
    "parameters, error = optimisation.run()\n",
    "\n",
    "# How does it look?\n",
    "plt.figure()\n",
    "plt.plot(times, noisy_data, label='data')\n",
    "plt.plot(times, pintsmodel.simulate(parameters, times), lw=2, label='model k=%.3f' % parameters)\n",
    "plt.legend()\n",
    "plt.show()"
   ]
  },
  {
   "cell_type": "code",
   "execution_count": null,
   "metadata": {},
   "outputs": [],
   "source": [
    "# Next, sampling.\n",
    "log_likelihood = pints.GaussianKnownSigmaLogLikelihood(problem, sigma=0.05)\n",
    "startpoints = [[1],[3],[5]]\n",
    "mcmc = pints.MCMCController(log_likelihood, 3, startpoints, method=pints.HaarioBardenetACMC)\n",
    "mcmc.set_max_iterations(2000)\n",
    "mcmc.set_log_to_screen(False)\n",
    "samples = mcmc.run()"
   ]
  },
  {
   "cell_type": "code",
   "execution_count": null,
   "metadata": {},
   "outputs": [],
   "source": [
    "# Use a diagnostic plot to check if the chains have converged\n",
    "import pints.plot\n",
    "pints.plot.trace(samples)\n",
    "plt.show()"
   ]
  },
  {
   "cell_type": "code",
   "execution_count": null,
   "metadata": {},
   "outputs": [],
   "source": [
    "# Plot several predictions that are all likely sources of the experimental data\n",
    "pints.plot.series(np.vstack(samples[:,1000:]), problem)\n",
    "plt.show()"
   ]
  },
  {
   "cell_type": "markdown",
   "metadata": {},
   "source": []
  }
 ],
 "metadata": {
  "kernelspec": {
   "display_name": "bayes",
   "language": "python",
   "name": "bayes"
  },
  "language_info": {
   "codemirror_mode": {
    "name": "ipython",
    "version": 3
   },
   "file_extension": ".py",
   "mimetype": "text/x-python",
   "name": "python",
   "nbconvert_exporter": "python",
   "pygments_lexer": "ipython3",
   "version": "3.7.6"
  }
 },
 "nbformat": 4,
 "nbformat_minor": 2
}
