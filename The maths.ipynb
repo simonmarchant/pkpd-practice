{
 "cells": [
  {
   "cell_type": "markdown",
   "metadata": {},
   "source": [
    "# Useful basics to remember\n",
    "* $P(y|x)$ means the probability of y, given that x happens.\n",
    "    * $P(y|x,z)$ means the probability of y, given x and z.\n",
    "    \n",
    "    \n",
    "* $P(x,y)$ means the probability of both x and y happening.\n",
    "    * $P(x,y) = P(x|y)\\cdot P(y)$. Intuitively, this means: prob of x and y both happening is prob of x assuming y happens, times prob of y happening.  \n",
    "  \n",
    "  \n",
    "* $N(\\mu, \\sigma)$ is a normal (aka Gaussian) distribution with mean $\\mu$ and variance $\\sigma$ (SD $2\\sigma$)\n",
    "    * If x is drawn randomly from a normal distribution, $x \\sim N((\\mu, \\sigma)$\n",
    "    * If y is x with Gaussian noise added, $P(y|x,\\sigma)=N(x, \\sigma)$\n",
    "    * For dependent variable y, $N(\\mu, \\sigma) = \\frac{1}{\\sqrt{2\\pi\\sigma^2}}, e^{-\\frac{(y-\\mu)^2}{2\\sigma^2}}$\n",
    "    \n",
    "    \n",
    "* Bayes' rule: $Pr(\\theta|X) = \\frac{Pr(X|\\theta) Pr(\\theta)}{Pr(X)}$  \n",
    "    * $Pr(\\theta)$: prior. Function representing our previous assumption of the probability of outcomes. Defined by the modeler.\n",
    "    * $Pr(X|\\theta)$: likelihood. ?????????\n",
    "    * $Pr(X)$: A function that normalises (makes the posterior integrate to 1)."
   ]
  },
  {
   "cell_type": "markdown",
   "metadata": {},
   "source": [
    "# Bayesian optimisation\n"
   ]
  },
  {
   "cell_type": "markdown",
   "metadata": {},
   "source": [
    "# Bayesian sampling"
   ]
  },
  {
   "cell_type": "markdown",
   "metadata": {},
   "source": [
    "# Hierarchical sampling\n",
    "\n",
    "We're trying to find \n",
    "\n",
    "The likelihood is\n",
    "$$\\mathcal{L} = P(y_j, \\theta_j, \\mu, \\tau)$$\n",
    "\n",
    "## Parameter sensitivities\n",
    "Parameter sensitivity means how the function varies with a given parameter: so it's just a fancy way of saying the function gradient (partial differential) with respect to a parameter. Some MCMC techniques use the local gradient to choose the next step size, so we need the sensitivity of the log probability with respect to each parameter.\n",
    "\n"
   ]
  }
 ],
 "metadata": {
  "kernelspec": {
   "display_name": "bayes",
   "language": "python",
   "name": "bayes"
  },
  "language_info": {
   "codemirror_mode": {
    "name": "ipython",
    "version": 3
   },
   "file_extension": ".py",
   "mimetype": "text/x-python",
   "name": "python",
   "nbconvert_exporter": "python",
   "pygments_lexer": "ipython3",
   "version": "3.7.6"
  }
 },
 "nbformat": 4,
 "nbformat_minor": 2
}
