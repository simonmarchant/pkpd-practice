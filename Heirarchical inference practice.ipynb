{
 "cells": [
  {
   "cell_type": "code",
   "execution_count": 2,
   "metadata": {},
   "outputs": [],
   "source": [
    "import numpy as np\n",
    "import math\n",
    "import matplotlib.pyplot as plt\n",
    "import scipy\n",
    "import pints"
   ]
  },
  {
   "cell_type": "markdown",
   "metadata": {},
   "source": []
  },
  {
   "cell_type": "code",
   "execution_count": 33,
   "metadata": {},
   "outputs": [
    {
     "data": {
      "image/png": "[encoded data removed]",
      "text/plain": [
       "<Figure size 432x288 with 1 Axes>"
      ]
     },
     "metadata": {
      "needs_background": "light"
     },
     "output_type": "display_data"
    },
    {
     "data": {
      "text/plain": [
       "-5.2637670606618725"
      ]
     },
     "execution_count": 33,
     "metadata": {},
     "output_type": "execute_result"
    }
   ],
   "source": [
    "# Parameters (& hyper parameters)\n",
    "theta_data = [28, 8, -3, 7, -1, 1, 18, 12] # measured average score for each school\n",
    "sigma_data = [15, 10, 16, 11, 9, 11, 10, 18] # measured score SD for each school\n",
    "mu = 1 # overall mean score\n",
    "tau = 1 # overall score SD\n",
    "\n",
    "# What is gaussianlogprior?\n",
    "prior = pints.HalfCauchyLogPrior(mu, tau)\n",
    "nums = [n/10 for n in np.linspace(0,100)]\n",
    "test = [prior([n]) for n in nums]\n",
    "#testcdf = prior.cdf()\n",
    "plt.figure()\n",
    "plt.plot(nums, test)\n",
    "#plt.plot(nums, testcdf)\n",
    "plt.show()\n",
    "\n",
    "prior([10])"
   ]
  },
  {
   "cell_type": "code",
   "execution_count": 35,
   "metadata": {},
   "outputs": [
    {
     "data": {
      "text/plain": [
       "-43.022260381614515"
      ]
     },
     "execution_count": 35,
     "metadata": {},
     "output_type": "execute_result"
    }
   ],
   "source": [
    "# Stolen entirely from pints eightschools\n",
    "\n",
    "def loglikelihood_8schools(x, y_data):\n",
    "    # x is proposed parameters, we're finding numerator of Bayes' rule\n",
    "    if len(x) != 10:\n",
    "        raise ValueError('Input parameters must be of length 10.')\n",
    "    mu = x[0] # overall mean\n",
    "    tau = x[1] # overall variance\n",
    "    thetas = x[2:] # mean per school\n",
    "    lk_of_theta = 0\n",
    "    lk_of_data = 0\n",
    "    # priors\n",
    "    log_prior = pints.GaussianLogPrior(mu, tau) # prior pdf of theta\n",
    "    mu_log_prior = pints.GaussianLogPrior(0,5) # prior pdf, centred on zero (no avg effect)\n",
    "    tau_log_prior = pints.HalfCauchyLogPrior(0,5) # prior pdf, why centre zero???\n",
    "    \n",
    "    lk_of_mu = mu_log_prior([mu]) # log likelihood of mu\n",
    "    lk_of_tau = tau_log_prior([tau]) # log likelihood of tau\n",
    "\n",
    "    # nb. theta_tilde is the proposed theta (rather than data theta) I think?\n",
    "    for i, theta_tilde in enumerate(thetas): # go through each proposed school mean\n",
    "        lk_of_theta += log_prior([theta_tilde]) # log likelihood of theta\n",
    "\n",
    "        log_prior_2 = pints.GaussianLogPrior(theta_tilde, sigma_data[i]) \n",
    "        lk_of_data += log_prior_2([y_data[i]]) # log likelihood of data given theta?\n",
    "\n",
    "    return lk_of_mu + lk_of_tau + lk_of_theta + lk_of_data\n",
    "\n",
    "# test\n",
    "loglikelihood_8schools(np.ones(10), theta_data)"
   ]
  },
  {
   "cell_type": "code",
   "execution_count": 57,
   "metadata": {},
   "outputs": [
    {
     "ename": "ValueError",
     "evalue": "Given function must extend pints.LogPDF",
     "output_type": "error",
     "traceback": [
      "\u001b[0;31m---------------------------------------------------------------------------\u001b[0m",
      "\u001b[0;31mValueError\u001b[0m                                Traceback (most recent call last)",
      "\u001b[0;32m<ipython-input-57-3b39847bd174>\u001b[0m in \u001b[0;36m<module>\u001b[0;34m\u001b[0m\n\u001b[1;32m      8\u001b[0m \u001b[0mstart_thetas\u001b[0m \u001b[0;34m=\u001b[0m \u001b[0;34m[\u001b[0m\u001b[0mnp\u001b[0m\u001b[0;34m.\u001b[0m\u001b[0mones\u001b[0m\u001b[0;34m(\u001b[0m\u001b[0;36m10\u001b[0m\u001b[0;34m)\u001b[0m\u001b[0;34m,\u001b[0m \u001b[0mnp\u001b[0m\u001b[0;34m.\u001b[0m\u001b[0mones\u001b[0m\u001b[0;34m(\u001b[0m\u001b[0;36m10\u001b[0m\u001b[0;34m)\u001b[0m\u001b[0;34m*\u001b[0m\u001b[0;36m4\u001b[0m\u001b[0;34m,\u001b[0m \u001b[0mnp\u001b[0m\u001b[0;34m.\u001b[0m\u001b[0mones\u001b[0m\u001b[0;34m(\u001b[0m\u001b[0;36m10\u001b[0m\u001b[0;34m)\u001b[0m\u001b[0;34m*\u001b[0m\u001b[0;36m9\u001b[0m\u001b[0;34m]\u001b[0m\u001b[0;34m\u001b[0m\u001b[0;34m\u001b[0m\u001b[0m\n\u001b[1;32m      9\u001b[0m \u001b[0;34m\u001b[0m\u001b[0m\n\u001b[0;32m---> 10\u001b[0;31m \u001b[0mmcmc\u001b[0m \u001b[0;34m=\u001b[0m \u001b[0mpints\u001b[0m\u001b[0;34m.\u001b[0m\u001b[0mMCMCController\u001b[0m\u001b[0;34m(\u001b[0m\u001b[0mpints8schools\u001b[0m\u001b[0;34m,\u001b[0m \u001b[0;36m3\u001b[0m\u001b[0;34m,\u001b[0m \u001b[0mstart_thetas\u001b[0m\u001b[0;34m,\u001b[0m \u001b[0mmethod\u001b[0m\u001b[0;34m=\u001b[0m\u001b[0mpints\u001b[0m\u001b[0;34m.\u001b[0m\u001b[0mXNES\u001b[0m\u001b[0;34m)\u001b[0m\u001b[0;34m\u001b[0m\u001b[0;34m\u001b[0m\u001b[0m\n\u001b[0m\u001b[1;32m     11\u001b[0m \u001b[0mmcmc\u001b[0m\u001b[0;34m.\u001b[0m\u001b[0mset_log_to_screen\u001b[0m\u001b[0;34m(\u001b[0m\u001b[0;32mTrue\u001b[0m\u001b[0;34m)\u001b[0m\u001b[0;34m\u001b[0m\u001b[0;34m\u001b[0m\u001b[0m\n\u001b[1;32m     12\u001b[0m \u001b[0mmcmc\u001b[0m\u001b[0;34m.\u001b[0m\u001b[0mset_log_interval\u001b[0m\u001b[0;34m(\u001b[0m\u001b[0;36m100\u001b[0m\u001b[0;34m)\u001b[0m\u001b[0;34m\u001b[0m\u001b[0;34m\u001b[0m\u001b[0m\n",
      "\u001b[0;32m/usr/local/lib/python3.6/dist-packages/pints/_mcmc/__init__.py\u001b[0m in \u001b[0;36m__init__\u001b[0;34m(self, log_pdf, chains, x0, sigma0, method)\u001b[0m\n\u001b[1;32m    301\u001b[0m         \u001b[0;31m# Store function\u001b[0m\u001b[0;34m\u001b[0m\u001b[0;34m\u001b[0m\u001b[0;34m\u001b[0m\u001b[0m\n\u001b[1;32m    302\u001b[0m         \u001b[0;32mif\u001b[0m \u001b[0;32mnot\u001b[0m \u001b[0misinstance\u001b[0m\u001b[0;34m(\u001b[0m\u001b[0mlog_pdf\u001b[0m\u001b[0;34m,\u001b[0m \u001b[0mpints\u001b[0m\u001b[0;34m.\u001b[0m\u001b[0mLogPDF\u001b[0m\u001b[0;34m)\u001b[0m\u001b[0;34m:\u001b[0m\u001b[0;34m\u001b[0m\u001b[0;34m\u001b[0m\u001b[0m\n\u001b[0;32m--> 303\u001b[0;31m             \u001b[0;32mraise\u001b[0m \u001b[0mValueError\u001b[0m\u001b[0;34m(\u001b[0m\u001b[0;34m'Given function must extend pints.LogPDF'\u001b[0m\u001b[0;34m)\u001b[0m\u001b[0;34m\u001b[0m\u001b[0;34m\u001b[0m\u001b[0m\n\u001b[0m\u001b[1;32m    304\u001b[0m         \u001b[0mself\u001b[0m\u001b[0;34m.\u001b[0m\u001b[0m_log_pdf\u001b[0m \u001b[0;34m=\u001b[0m \u001b[0mlog_pdf\u001b[0m\u001b[0;34m\u001b[0m\u001b[0;34m\u001b[0m\u001b[0m\n\u001b[1;32m    305\u001b[0m \u001b[0;34m\u001b[0m\u001b[0m\n",
      "\u001b[0;31mValueError\u001b[0m: Given function must extend pints.LogPDF"
     ]
    }
   ],
   "source": [
    "# Pints MCMC\n",
    "class pints8schools(pints.LogPDF):\n",
    "    def __init__(self):\n",
    "        self._n_parameters = 10\n",
    "    def __call__(self, x, y_data):\n",
    "        loglikelihood_8schools(x, y_data)\n",
    "\n",
    "start_thetas = [np.ones(10), np.ones(10)*4, np.ones(10)*9]\n",
    "\n",
    "mcmc = pints.MCMCController(pints8schools, 3, start_thetas, method=pints.XNES)\n",
    "mcmc.set_log_to_screen(True)\n",
    "mcmc.set_log_interval(100)\n",
    "\n",
    "full_chains = mcmc.run()"
   ]
  },
  {
   "cell_type": "code",
   "execution_count": 49,
   "metadata": {},
   "outputs": [
    {
     "data": {
      "text/plain": [
       "array([1., 1., 1., 1., 1., 1., 1., 1., 1., 1.])"
      ]
     },
     "execution_count": 49,
     "metadata": {},
     "output_type": "execute_result"
    }
   ],
   "source": [
    "# MCMC without pints. Self-plagiarised wholesale from Bayesian sampling notebook.\n",
    "\n",
    "class OdeModel():\n",
    "    \n",
    "    def __init__(self, thetas, covariates, prior, likelihood, modeltype):\n",
    "        self.thetas = thetas\n",
    "        self.covariates = covariates\n",
    "        self.modeltype = modeltype\n",
    "        self.prior = prior\n",
    "        self.likelihood = likelihood\n",
    "        \n",
    "thetas_8schools = [[np.ones(10)], [np.ones(10)*5], [np.ones(10)]]\n",
    "covariates_8schools = [1,1,5,5,5,5,5,5,5,5]\n",
    "\n",
    "model = OdeModel(thetas_8schools, \n",
    "                 covariates_8schools, \n",
    "                 'where prior goes', \n",
    "                 loglikelihood_8schools, \n",
    "                 'where ODE would go')\n",
    "\n",
    "model.thetas[0][-1]"
   ]
  },
  {
   "cell_type": "code",
   "execution_count": 38,
   "metadata": {},
   "outputs": [],
   "source": [
    "def propose_new_theta(model, y_data, thetas):\n",
    "    \"\"\"Randomly proposes a new theta and decides whether to accept or not\n",
    "    In\n",
    "    model: instance of OdeModel class\n",
    "    y_data: list with experimental data\n",
    "    theta: parameters, in a list\n",
    "    \n",
    "    Out: new parameters, either the same (if proposed not accepted) or different\n",
    "    \"\"\"\n",
    "    \n",
    "    numerator = loglikelihood_8schools(thetas, y_data)\n",
    "    \n",
    "    # randomly get a proposed theta & calculate its numerator\n",
    "    proposed_theta = np.zeros(len(thetas))\n",
    "    for key, value in enumerate(thetas):\n",
    "        proposed_k = np.random.normal(value, model.covariates[key])\n",
    "        proposed_theta[key] = proposed_k\n",
    "    proposed_numerator = loglikelihood_8schools(proposed_theta, y_data)\n",
    "    \n",
    "    # if the new numerator should be accepted (metropolis hastings criteria), replace theta\n",
    "\n",
    "    if np.random.rand() < proposed_numerator/numerator:\n",
    "        thetas = proposed_theta\n",
    "        numerator = proposed_numerator\n",
    "    else:\n",
    "        pass # keep thetas the same\n",
    "    return thetas"
   ]
  },
  {
   "cell_type": "code",
   "execution_count": 41,
   "metadata": {},
   "outputs": [],
   "source": [
    "def metropolishastings(model, y_data, max_iters):\n",
    "    iters = 0\n",
    "    while iters < max_iters:\n",
    "        for threadnum in range(len(thetas_8schools)):\n",
    "            theta = propose_new_theta(model, y_data, model.thetas[threadnum][-1])\n",
    "            model.thetas[threadnum].append(theta)\n",
    "        iters = iters + 1"
   ]
  },
  {
   "cell_type": "code",
   "execution_count": 50,
   "metadata": {},
   "outputs": [
    {
     "name": "stderr",
     "output_type": "stream",
     "text": [
      "/usr/local/lib/python3.6/dist-packages/ipykernel_launcher.py:22: RuntimeWarning: invalid value encountered in double_scalars\n"
     ]
    }
   ],
   "source": [
    "metropolishastings(model, theta_data, 500)"
   ]
  },
  {
   "cell_type": "code",
   "execution_count": 52,
   "metadata": {},
   "outputs": [
    {
     "data": {
      "image/png": "[encoded data removed]",
      "text/plain": [
       "<Figure size 432x288 with 1 Axes>"
      ]
     },
     "metadata": {
      "needs_background": "light"
     },
     "output_type": "display_data"
    }
   ],
   "source": [
    "plt.figure()\n",
    "for n in range(len(model.thetas)):\n",
    "    ks_list= [theta[3] for theta in model.thetas[n]]\n",
    "    plt.plot(ks_list[:500]) # only first 500\n",
    "plt.xlabel('iteration #')\n",
    "plt.ylabel('k')\n",
    "plt.show()"
   ]
  }
 ],
 "metadata": {
  "kernelspec": {
   "display_name": "bayes",
   "language": "python",
   "name": "bayes"
  },
  "language_info": {
   "codemirror_mode": {
    "name": "ipython",
    "version": 3
   },
   "file_extension": ".py",
   "mimetype": "text/x-python",
   "name": "python",
   "nbconvert_exporter": "python",
   "pygments_lexer": "ipython3",
   "version": "3.6.9"
  }
 },
 "nbformat": 4,
 "nbformat_minor": 2
}
